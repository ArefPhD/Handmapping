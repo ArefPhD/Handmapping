{
  "nbformat": 4,
  "nbformat_minor": 0,
  "metadata": {
    "colab": {
      "private_outputs": true,
      "provenance": []
    },
    "kernelspec": {
      "name": "python3",
      "display_name": "Python 3"
    },
    "language_info": {
      "name": "python"
    }
  },
  "cells": [
    {
      "cell_type": "code",
      "execution_count": null,
      "metadata": {
        "id": "NMtQJ52jNYop"
      },
      "outputs": [],
      "source": [
        "from google.colab import files\n",
        "uploaded = files.upload()"
      ]
    },
    {
      "cell_type": "code",
      "source": [
        "!pip install mediapipe"
      ],
      "metadata": {
        "id": "J6JgpwCZNtHT"
      },
      "execution_count": null,
      "outputs": []
    },
    {
      "cell_type": "code",
      "source": [
        "import cv2\n",
        "import mediapipe as mp\n",
        "import cv2\n",
        "import mediapipe as mp\n",
        "from google.colab.patches import cv2_imshow\n",
        "\n",
        "# Initialize the hand landmark model\n",
        "mp_drawing = mp.solutions.drawing_utils\n",
        "mp_hands = mp.solutions.hands\n",
        "\n",
        "# Load the image\n",
        "image = cv2.imread('right-palm-hand-young-man-260nw-573006574.webp')\n",
        "\n",
        "\n",
        "\n",
        "# Convert the image from BGR (used by OpenCV) to RGB (used by MediaPipe)\n",
        "image = cv2.cvtColor(image, cv2.COLOR_BGR2RGB)\n",
        "\n",
        "# Run the hand landmark model on the image\n",
        "with mp_hands.Hands(\n",
        "    min_detection_confidence=0.5,\n",
        "    min_tracking_confidence=0.5) as hands:\n",
        "\n",
        "    results = hands.process(image)\n",
        "\n",
        "    # If hand landmarks are detected, draw them on the image\n",
        "    if results.multi_hand_landmarks:\n",
        "        for hand_landmarks in results.multi_hand_landmarks:\n",
        "            mp_drawing.draw_landmarks(\n",
        "                image,\n",
        "                hand_landmarks,\n",
        "                mp_hands.HAND_CONNECTIONS,\n",
        "                mp_drawing.DrawingSpec(color=(0,0,255), thickness=2, circle_radius=2),\n",
        "                mp_drawing.DrawingSpec(color=(255,255,255), thickness=2))\n",
        "\n",
        "# Show the image with hand landmarks\n",
        "cv2_imshow(image)\n",
        "cv2.waitKey(0)\n",
        "cv2.destroyAllWindows()\n"
      ],
      "metadata": {
        "id": "rGyRJHjUNaen"
      },
      "execution_count": null,
      "outputs": []
    },
    {
      "cell_type": "code",
      "source": [
        "import cv2\n",
        "import mediapipe as mp\n",
        "from google.colab.patches import cv2_imshow\n",
        "\n",
        "# Initialize the hand landmark model\n",
        "mp_drawing = mp.solutions.drawing_utils\n",
        "mp_hands = mp.solutions.hands\n",
        "\n",
        "# Start the webcam\n",
        "cap = cv2.VideoCapture(0)\n",
        "\n",
        "while True:\n",
        "    # Read a frame from the webcam\n",
        "    ret, image = cap.read()\n",
        "    \n",
        "    # Convert the image from BGR (used by OpenCV) to RGB (used by MediaPipe)\n",
        "    image = cv2.cvtColor(image, cv2.COLOR_BGR2RGB)\n",
        "\n",
        "    # Run the hand landmark model on the image\n",
        "    with mp_hands.Hands(\n",
        "        min_detection_confidence=0.5,\n",
        "        min_tracking_confidence=0.5) as hands:\n",
        "\n",
        "        results = hands.process(image)\n",
        "\n",
        "        # If hand landmarks are detected, draw them on the image\n",
        "        if results.multi_hand_landmarks:\n",
        "            for hand_landmarks in results.multi_hand_landmarks:\n",
        "                mp_drawing.draw_landmarks(\n",
        "                    image,\n",
        "                    hand_landmarks,\n",
        "                    mp_hands.HAND_CONNECTIONS,\n",
        "                    mp_drawing.DrawingSpec(color=(0,0,255), thickness=2, circle_radius=2),\n",
        "                    mp_drawing.DrawingSpec(color=(255,255,255), thickness=2))\n",
        "\n",
        "    # Show the image with hand landmarks\n",
        "    cv2_imshow(image)\n",
        "    \n",
        "    # Exit the loop if the 'q' key is pressed\n",
        "    if cv2.waitKey(1) & 0xFF == ord('q'):\n",
        "        break\n",
        "\n",
        "# Release the webcam and close all windows\n",
        "cap.release()\n",
        "cv2.destroyAllWindows()\n"
      ],
      "metadata": {
        "id": "Qh5fp8K1NmXm"
      },
      "execution_count": null,
      "outputs": []
    }
  ]
}