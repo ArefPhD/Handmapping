{
  "nbformat": 4,
  "nbformat_minor": 0,
  "metadata": {
    "colab": {
      "private_outputs": true,
      "provenance": []
    },
    "kernelspec": {
      "name": "python3",
      "display_name": "Python 3"
    },
    "language_info": {
      "name": "python"
    }
  },
  "cells": [
    {
      "cell_type": "code",
      "source": [
        "from google.colab import files\n",
        "uploaded = files.upload()"
      ],
      "metadata": {
        "id": "x9rJH1yo125l"
      },
      "execution_count": null,
      "outputs": []
    },
    {
      "cell_type": "code",
      "execution_count": null,
      "metadata": {
        "id": "cxasf4cT1w5L"
      },
      "outputs": [],
      "source": [
        "import json\n",
        "\n",
        "# Load the JSON data from the file\n",
        "with open(\"my_plot-image-16.json\") as f:\n",
        "    data = json.load(f)\n",
        "\n",
        "# Extract the landmark points for each finger\n",
        "landmarks = {}\n",
        "for finger_name in [\"thumb\", \"index\", \"middle\", \"ring\", \"pinky\"]:\n",
        "    x_vals = data[finger_name][\"x\"]\n",
        "    y_vals = data[finger_name][\"y\"]\n",
        "    z_vals = data[finger_name][\"z\"]\n",
        "    landmarks[finger_name] = [{\"x\": x, \"y\": y, \"z\": z} for x, y, z in zip(x_vals, y_vals, z_vals)]\n",
        "\n",
        "# Print the extracted landmark points for each finger\n",
        "for finger_name, finger_landmarks in landmarks.items():\n",
        "    print(finger_name)\n",
        "    for i, landmark in enumerate(finger_landmarks):\n",
        "        print(f\"  Landmark {i+1}: ({landmark['x']}, {landmark['y']}, {landmark['z']})\")\n"
      ]
    }
  ]
}